{
 "cells": [
  {
   "cell_type": "code",
   "execution_count": 1,
   "id": "c7e9d21f-c0ac-4028-b694-2221e89f9c95",
   "metadata": {},
   "outputs": [
    {
     "name": "stdout",
     "output_type": "stream",
     "text": [
      "=====================================================================\n",
      "Assignment: Homework 6\n",
      "OK, version v1.18.1\n",
      "=====================================================================\n",
      "\n",
      "~~~~~~~~~~~~~~~~~~~~~~~~~~~~~~~~~~~~~~~~~~~~~~~~~~~~~~~~~~~~~~~~~~~~~\n",
      "Running tests\n",
      "\n",
      "---------------------------------------------------------------------\n",
      "Test summary\n",
      "    3 test cases passed! No cases failed.\n",
      "\n",
      "Performing authentication\n",
      "Please enter your school email (.edu): \n"
     ]
    }
   ],
   "source": [
    "!python3 ok -q cadr-caddr"
   ]
  },
  {
   "cell_type": "code",
   "execution_count": 2,
   "id": "3623e2f3-2d51-4b47-b08a-1d59b2d8f40f",
   "metadata": {},
   "outputs": [
    {
     "name": "stdout",
     "output_type": "stream",
     "text": [
      "=====================================================================\n",
      "Assignment: Homework 6\n",
      "OK, version v1.18.1\n",
      "=====================================================================\n",
      "\n",
      "~~~~~~~~~~~~~~~~~~~~~~~~~~~~~~~~~~~~~~~~~~~~~~~~~~~~~~~~~~~~~~~~~~~~~\n",
      "Running tests\n",
      "\n",
      "---------------------------------------------------------------------\n",
      "Test summary\n",
      "    4 test cases passed! No cases failed.\n",
      "\n",
      "Performing authentication\n",
      "Please enter your school email (.edu): \n"
     ]
    }
   ],
   "source": [
    "!python3 ok -q sign"
   ]
  },
  {
   "cell_type": "code",
   "execution_count": 3,
   "id": "f7306344-9cd0-423b-8f16-074741f78286",
   "metadata": {},
   "outputs": [
    {
     "name": "stdout",
     "output_type": "stream",
     "text": [
      "=====================================================================\n",
      "Assignment: Homework 6\n",
      "OK, version v1.18.1\n",
      "=====================================================================\n",
      "\n",
      "~~~~~~~~~~~~~~~~~~~~~~~~~~~~~~~~~~~~~~~~~~~~~~~~~~~~~~~~~~~~~~~~~~~~~\n",
      "Running tests\n",
      "\n",
      "---------------------------------------------------------------------\n",
      "Test summary\n",
      "    4 test cases passed! No cases failed.\n",
      "\n",
      "Performing authentication\n",
      "Please enter your school email (.edu): \n"
     ]
    }
   ],
   "source": [
    "!python3 ok -q pow"
   ]
  }
 ],
 "metadata": {
  "kernelspec": {
   "display_name": "Python 3 (ipykernel)",
   "language": "python",
   "name": "python3"
  },
  "language_info": {
   "codemirror_mode": {
    "name": "ipython",
    "version": 3
   },
   "file_extension": ".py",
   "mimetype": "text/x-python",
   "name": "python",
   "nbconvert_exporter": "python",
   "pygments_lexer": "ipython3",
   "version": "3.8.10"
  }
 },
 "nbformat": 4,
 "nbformat_minor": 5
}
