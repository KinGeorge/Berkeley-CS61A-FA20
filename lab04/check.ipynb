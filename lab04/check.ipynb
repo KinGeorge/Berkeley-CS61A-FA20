{
 "cells": [
  {
   "cell_type": "code",
   "execution_count": null,
   "id": "161b74b5-3418-4cde-b2e8-93f9d5f482a6",
   "metadata": {},
   "outputs": [
    {
     "name": "stdout",
     "output_type": "stream",
     "text": [
      "=====================================================================\n",
      "Assignment: Lab 4\n",
      "OK, version v1.18.1\n",
      "=====================================================================\n",
      "\n",
      "~~~~~~~~~~~~~~~~~~~~~~~~~~~~~~~~~~~~~~~~~~~~~~~~~~~~~~~~~~~~~~~~~~~~~\n",
      "Running tests\n",
      "\n",
      "---------------------------------------------------------------------\n",
      "Test summary\n",
      "    1 test cases passed! No cases failed.\n",
      "\n",
      "Performing authentication\n",
      "Please enter your school email (.edu): "
     ]
    }
   ],
   "source": [
    "!python3 ok -q skip_add"
   ]
  },
  {
   "cell_type": "code",
   "execution_count": null,
   "id": "b35a20c2-b235-49b5-b8b6-e1d92b2c4ac9",
   "metadata": {},
   "outputs": [
    {
     "name": "stdout",
     "output_type": "stream",
     "text": [
      "=====================================================================\n",
      "Assignment: Lab 4\n",
      "OK, version v1.18.1\n",
      "=====================================================================\n",
      "\n",
      "~~~~~~~~~~~~~~~~~~~~~~~~~~~~~~~~~~~~~~~~~~~~~~~~~~~~~~~~~~~~~~~~~~~~~\n",
      "Running tests\n",
      "\n",
      "---------------------------------------------------------------------\n",
      "Test summary\n",
      "    1 test cases passed! No cases failed.\n",
      "\n",
      "Performing authentication\n",
      "Please enter your school email (.edu): "
     ]
    }
   ],
   "source": [
    "!python3 ok -q summation"
   ]
  },
  {
   "cell_type": "code",
   "execution_count": null,
   "id": "9fd8ad93-8cde-4eb1-b3a5-de032b2cd0cf",
   "metadata": {},
   "outputs": [
    {
     "name": "stdout",
     "output_type": "stream",
     "text": [
      "=====================================================================\n",
      "Assignment: Lab 4\n",
      "OK, version v1.18.1\n",
      "=====================================================================\n",
      "\n",
      "~~~~~~~~~~~~~~~~~~~~~~~~~~~~~~~~~~~~~~~~~~~~~~~~~~~~~~~~~~~~~~~~~~~~~\n",
      "Running tests\n",
      "\n",
      "---------------------------------------------------------------------\n",
      "Test summary\n",
      "    1 test cases passed! No cases failed.\n",
      "\n",
      "Performing authentication\n",
      "Please enter your school email (.edu): "
     ]
    }
   ],
   "source": [
    "!python3 ok -q paths"
   ]
  },
  {
   "cell_type": "code",
   "execution_count": null,
   "id": "4a1ab4f0-0e24-423c-b4c6-c283847bb595",
   "metadata": {},
   "outputs": [
    {
     "name": "stdout",
     "output_type": "stream",
     "text": [
      "=====================================================================\n",
      "Assignment: Lab 4\n",
      "OK, version v1.18.1\n",
      "=====================================================================\n",
      "\n",
      "~~~~~~~~~~~~~~~~~~~~~~~~~~~~~~~~~~~~~~~~~~~~~~~~~~~~~~~~~~~~~~~~~~~~~\n",
      "Running tests\n",
      "\n",
      "---------------------------------------------------------------------\n",
      "Test summary\n",
      "    1 test cases passed! No cases failed.\n",
      "\n",
      "Performing authentication\n",
      "Please enter your school email (.edu): "
     ]
    }
   ],
   "source": [
    "!python3 ok -q max_subseq"
   ]
  },
  {
   "cell_type": "code",
   "execution_count": null,
   "id": "5f82bd80-c2ac-432f-a4c6-9ea923fc85f9",
   "metadata": {},
   "outputs": [
    {
     "name": "stdout",
     "output_type": "stream",
     "text": [
      "=====================================================================\n",
      "Assignment: Lab 4\n",
      "OK, version v1.18.1\n",
      "=====================================================================\n",
      "\n",
      "~~~~~~~~~~~~~~~~~~~~~~~~~~~~~~~~~~~~~~~~~~~~~~~~~~~~~~~~~~~~~~~~~~~~~\n",
      "Running tests\n",
      "\n",
      "---------------------------------------------------------------------\n",
      "Test summary\n",
      "    1 test cases passed! No cases failed.\n",
      "\n",
      "Performing authentication\n",
      "Please enter your school email (.edu): "
     ]
    }
   ],
   "source": [
    "!python3 ok -q add_chars"
   ]
  }
 ],
 "metadata": {
  "kernelspec": {
   "display_name": "Python 3 (ipykernel)",
   "language": "python",
   "name": "python3"
  },
  "language_info": {
   "codemirror_mode": {
    "name": "ipython",
    "version": 3
   },
   "file_extension": ".py",
   "mimetype": "text/x-python",
   "name": "python",
   "nbconvert_exporter": "python",
   "pygments_lexer": "ipython3",
   "version": "3.8.10"
  }
 },
 "nbformat": 4,
 "nbformat_minor": 5
}
