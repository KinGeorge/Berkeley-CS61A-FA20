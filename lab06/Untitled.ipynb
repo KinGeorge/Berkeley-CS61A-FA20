{
 "cells": [
  {
   "cell_type": "code",
   "execution_count": 1,
   "id": "9ace2d69-6864-452b-9d5a-b86259ae03da",
   "metadata": {
    "tags": []
   },
   "outputs": [
    {
     "name": "stdout",
     "output_type": "stream",
     "text": [
      "=====================================================================\n",
      "Assignment: Lab 6\n",
      "OK, version v1.18.1\n",
      "=====================================================================\n",
      "\n",
      "~~~~~~~~~~~~~~~~~~~~~~~~~~~~~~~~~~~~~~~~~~~~~~~~~~~~~~~~~~~~~~~~~~~~~\n",
      "Running tests\n",
      "\n",
      "---------------------------------------------------------------------\n",
      "Test summary\n",
      "    1 test cases passed! No cases failed.\n",
      "\n",
      "Performing authentication\n",
      "Please enter your school email (.edu): \n"
     ]
    }
   ],
   "source": [
    "!python3 ok -q make_adder_inc"
   ]
  },
  {
   "cell_type": "code",
   "execution_count": null,
   "id": "a1982c06-6f97-4a5c-93d8-21c46db0f37e",
   "metadata": {},
   "outputs": [
    {
     "name": "stdout",
     "output_type": "stream",
     "text": [
      "=====================================================================\n",
      "Assignment: Lab 6\n",
      "OK, version v1.18.1\n",
      "=====================================================================\n",
      "\n",
      "~~~~~~~~~~~~~~~~~~~~~~~~~~~~~~~~~~~~~~~~~~~~~~~~~~~~~~~~~~~~~~~~~~~~~\n",
      "Running tests\n",
      "\n",
      "---------------------------------------------------------------------\n",
      "Test summary\n",
      "    1 test cases passed! No cases failed.\n",
      "\n",
      "Performing authentication\n",
      "Please enter your school email (.edu): "
     ]
    }
   ],
   "source": [
    "!python3 ok -q make_fib"
   ]
  },
  {
   "cell_type": "code",
   "execution_count": null,
   "id": "e460959e-f5a1-4baa-9dfe-a67315475b28",
   "metadata": {},
   "outputs": [
    {
     "name": "stdout",
     "output_type": "stream",
     "text": [
      "=====================================================================\n",
      "Assignment: Lab 6\n",
      "OK, version v1.18.1\n",
      "=====================================================================\n",
      "\n",
      "~~~~~~~~~~~~~~~~~~~~~~~~~~~~~~~~~~~~~~~~~~~~~~~~~~~~~~~~~~~~~~~~~~~~~\n",
      "Running tests\n",
      "\n",
      "---------------------------------------------------------------------\n",
      "Test summary\n",
      "    1 test cases passed! No cases failed.\n",
      "\n",
      "Performing authentication\n",
      "Please enter your school email (.edu): "
     ]
    }
   ],
   "source": [
    "!python3 ok -q insert_items"
   ]
  }
 ],
 "metadata": {
  "kernelspec": {
   "display_name": "Python 3 (ipykernel)",
   "language": "python",
   "name": "python3"
  },
  "language_info": {
   "codemirror_mode": {
    "name": "ipython",
    "version": 3
   },
   "file_extension": ".py",
   "mimetype": "text/x-python",
   "name": "python",
   "nbconvert_exporter": "python",
   "pygments_lexer": "ipython3",
   "version": "3.8.10"
  }
 },
 "nbformat": 4,
 "nbformat_minor": 5
}
