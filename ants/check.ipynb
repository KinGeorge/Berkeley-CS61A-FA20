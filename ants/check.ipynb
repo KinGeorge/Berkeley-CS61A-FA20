{
 "cells": [
  {
   "cell_type": "code",
   "execution_count": 6,
   "id": "be5634b8-3e4f-4ece-8113-a7263684209b",
   "metadata": {},
   "outputs": [
    {
     "name": "stdout",
     "output_type": "stream",
     "text": [
      "=====================================================================\n",
      "Assignment: Project 3: Ants Vs. SomeBees\n",
      "OK, version v1.18.1\n",
      "=====================================================================\n",
      "\n",
      "~~~~~~~~~~~~~~~~~~~~~~~~~~~~~~~~~~~~~~~~~~~~~~~~~~~~~~~~~~~~~~~~~~~~~\n",
      "Running tests\n",
      "\n",
      "---------------------------------------------------------------------\n",
      "Test summary\n",
      "    5 test cases passed! No cases failed.\n",
      "\n",
      "Performing authentication\n",
      "Please enter your school email (.edu): \n"
     ]
    }
   ],
   "source": [
    "!python3 ok -q 01"
   ]
  },
  {
   "cell_type": "code",
   "execution_count": 7,
   "id": "0885beb2-239a-4ae7-989a-7dab280dccdc",
   "metadata": {},
   "outputs": [
    {
     "name": "stdout",
     "output_type": "stream",
     "text": [
      "=====================================================================\n",
      "Assignment: Project 3: Ants Vs. SomeBees\n",
      "OK, version v1.18.1\n",
      "=====================================================================\n",
      "\n",
      "~~~~~~~~~~~~~~~~~~~~~~~~~~~~~~~~~~~~~~~~~~~~~~~~~~~~~~~~~~~~~~~~~~~~~\n",
      "Running tests\n",
      "\n",
      "---------------------------------------------------------------------\n",
      "Test summary\n",
      "    5 test cases passed! No cases failed.\n",
      "\n",
      "Performing authentication\n",
      "Please enter your school email (.edu): \n"
     ]
    }
   ],
   "source": [
    "!python3 ok -q 02"
   ]
  },
  {
   "cell_type": "code",
   "execution_count": 8,
   "id": "f7db517c-db72-4e6f-ab4c-0e5c6ac8122b",
   "metadata": {},
   "outputs": [
    {
     "name": "stdout",
     "output_type": "stream",
     "text": [
      "=====================================================================\n",
      "Assignment: Project 3: Ants Vs. SomeBees\n",
      "OK, version v1.18.1\n",
      "=====================================================================\n",
      "\n",
      "~~~~~~~~~~~~~~~~~~~~~~~~~~~~~~~~~~~~~~~~~~~~~~~~~~~~~~~~~~~~~~~~~~~~~\n",
      "Running tests\n",
      "\n",
      "---------------------------------------------------------------------\n",
      "Test summary\n",
      "    11 test cases passed! No cases failed.\n",
      "\n",
      "Performing authentication\n",
      "Please enter your school email (.edu): \n"
     ]
    }
   ],
   "source": [
    "!python3 ok -q 03"
   ]
  },
  {
   "cell_type": "code",
   "execution_count": 2,
   "id": "9ad75747-f6e3-4f41-b7c1-25fc1cf4d9f5",
   "metadata": {},
   "outputs": [
    {
     "name": "stdout",
     "output_type": "stream",
     "text": [
      "=====================================================================\n",
      "Assignment: Project 3: Ants Vs. SomeBees\n",
      "OK, version v1.18.1\n",
      "=====================================================================\n",
      "\n",
      "~~~~~~~~~~~~~~~~~~~~~~~~~~~~~~~~~~~~~~~~~~~~~~~~~~~~~~~~~~~~~~~~~~~~~\n",
      "Running tests\n",
      "\n",
      "---------------------------------------------------------------------\n",
      "Test summary\n",
      "    25 test cases passed! No cases failed.\n",
      "\n",
      "Performing authentication\n",
      "Please enter your school email (.edu): \n"
     ]
    }
   ],
   "source": [
    "!python3 ok -q 04"
   ]
  },
  {
   "cell_type": "code",
   "execution_count": 9,
   "id": "f94b7ade-f98f-49a9-8716-1bb3ca556db2",
   "metadata": {},
   "outputs": [
    {
     "name": "stdout",
     "output_type": "stream",
     "text": [
      "=====================================================================\n",
      "Assignment: Project 3: Ants Vs. SomeBees\n",
      "OK, version v1.18.1\n",
      "=====================================================================\n",
      "\n",
      "~~~~~~~~~~~~~~~~~~~~~~~~~~~~~~~~~~~~~~~~~~~~~~~~~~~~~~~~~~~~~~~~~~~~~\n",
      "Running tests\n",
      "\n",
      "---------------------------------------------------------------------\n",
      "Test summary\n",
      "    16 test cases passed! No cases failed.\n",
      "\n",
      "Performing authentication\n",
      "Please enter your school email (.edu): \n"
     ]
    }
   ],
   "source": [
    "!python3 ok -q 05"
   ]
  },
  {
   "cell_type": "code",
   "execution_count": 11,
   "id": "f2d95cf0-3abc-420d-a43c-e43fd1fb88c7",
   "metadata": {},
   "outputs": [
    {
     "name": "stdout",
     "output_type": "stream",
     "text": [
      "=====================================================================\n",
      "Assignment: Project 3: Ants Vs. SomeBees\n",
      "OK, version v1.18.1\n",
      "=====================================================================\n",
      "\n",
      "~~~~~~~~~~~~~~~~~~~~~~~~~~~~~~~~~~~~~~~~~~~~~~~~~~~~~~~~~~~~~~~~~~~~~\n",
      "Running tests\n",
      "\n",
      "---------------------------------------------------------------------\n",
      "Test summary\n",
      "    14 test cases passed! No cases failed.\n",
      "\n",
      "Performing authentication\n",
      "Please enter your school email (.edu): \n"
     ]
    }
   ],
   "source": [
    "!python3 ok -q 06"
   ]
  },
  {
   "cell_type": "code",
   "execution_count": 13,
   "id": "8ee00d4e-1ce0-4d5c-afbe-4f7148b57248",
   "metadata": {},
   "outputs": [
    {
     "name": "stdout",
     "output_type": "stream",
     "text": [
      "=====================================================================\n",
      "Assignment: Project 3: Ants Vs. SomeBees\n",
      "OK, version v1.18.1\n",
      "=====================================================================\n",
      "\n",
      "~~~~~~~~~~~~~~~~~~~~~~~~~~~~~~~~~~~~~~~~~~~~~~~~~~~~~~~~~~~~~~~~~~~~~\n",
      "Running tests\n",
      "\n",
      "---------------------------------------------------------------------\n",
      "Test summary\n",
      "    8 test cases passed! No cases failed.\n",
      "\n",
      "Performing authentication\n",
      "Please enter your school email (.edu): \n"
     ]
    }
   ],
   "source": [
    "!python3 ok -q 07"
   ]
  },
  {
   "cell_type": "code",
   "execution_count": 21,
   "id": "0c9ad276-c08c-479e-9002-1d5d5caf306e",
   "metadata": {},
   "outputs": [
    {
     "name": "stdout",
     "output_type": "stream",
     "text": [
      "=====================================================================\n",
      "Assignment: Project 3: Ants Vs. SomeBees\n",
      "OK, version v1.18.1\n",
      "=====================================================================\n",
      "\n",
      "~~~~~~~~~~~~~~~~~~~~~~~~~~~~~~~~~~~~~~~~~~~~~~~~~~~~~~~~~~~~~~~~~~~~~\n",
      "Running tests\n",
      "\n",
      "---------------------------------------------------------------------\n",
      "Test summary\n",
      "    8 test cases passed! No cases failed.\n",
      "\n",
      "Performing authentication\n",
      "Please enter your school email (.edu): \n"
     ]
    }
   ],
   "source": [
    "!python3 ok -q 08"
   ]
  },
  {
   "cell_type": "code",
   "execution_count": 22,
   "id": "6f85ec1b-06d4-418d-b3e7-4fe60c8f7644",
   "metadata": {},
   "outputs": [
    {
     "name": "stdout",
     "output_type": "stream",
     "text": [
      "=====================================================================\n",
      "Assignment: Project 3: Ants Vs. SomeBees\n",
      "OK, version v1.18.1\n",
      "=====================================================================\n",
      "\n",
      "~~~~~~~~~~~~~~~~~~~~~~~~~~~~~~~~~~~~~~~~~~~~~~~~~~~~~~~~~~~~~~~~~~~~~\n",
      "Running tests\n",
      "\n",
      "---------------------------------------------------------------------\n",
      "Test summary\n",
      "    9 test cases passed! No cases failed.\n",
      "\n",
      "Performing authentication\n",
      "Please enter your school email (.edu): \n"
     ]
    }
   ],
   "source": [
    "!python3 ok -q 09"
   ]
  },
  {
   "cell_type": "code",
   "execution_count": 29,
   "id": "3a65affa-d546-44b7-bbe1-6bdd90a9b4a9",
   "metadata": {},
   "outputs": [
    {
     "name": "stdout",
     "output_type": "stream",
     "text": [
      "=====================================================================\n",
      "Assignment: Project 3: Ants Vs. SomeBees\n",
      "OK, version v1.18.1\n",
      "=====================================================================\n",
      "\n",
      "~~~~~~~~~~~~~~~~~~~~~~~~~~~~~~~~~~~~~~~~~~~~~~~~~~~~~~~~~~~~~~~~~~~~~\n",
      "Running tests\n",
      "\n",
      "---------------------------------------------------------------------\n",
      "Test summary\n",
      "    18 test cases passed! No cases failed.\n",
      "\n",
      "Performing authentication\n",
      "Please enter your school email (.edu): \n"
     ]
    }
   ],
   "source": [
    "!python3 ok -q EC"
   ]
  },
  {
   "cell_type": "code",
   "execution_count": 31,
   "id": "3e26f7c5-9e04-4079-8bd8-6186747fe3e2",
   "metadata": {},
   "outputs": [
    {
     "name": "stdout",
     "output_type": "stream",
     "text": [
      "=====================================================================\n",
      "Assignment: Project 3: Ants Vs. SomeBees\n",
      "OK, version v1.18.1\n",
      "=====================================================================\n",
      "\n",
      "~~~~~~~~~~~~~~~~~~~~~~~~~~~~~~~~~~~~~~~~~~~~~~~~~~~~~~~~~~~~~~~~~~~~~\n",
      "Running tests\n",
      "\n",
      "---------------------------------------------------------------------\n",
      "Test summary\n",
      "    15 test cases passed! No cases failed.\n",
      "\n",
      "Performing authentication\n",
      "Please enter your school email (.edu): \n"
     ]
    }
   ],
   "source": [
    "!python3 ok -q optional1 "
   ]
  },
  {
   "cell_type": "code",
   "execution_count": 35,
   "id": "45e1ffc7-be1e-41f8-b93a-3c50fff8076d",
   "metadata": {},
   "outputs": [
    {
     "name": "stdout",
     "output_type": "stream",
     "text": [
      "=====================================================================\n",
      "Assignment: Project 3: Ants Vs. SomeBees\n",
      "OK, version v1.18.1\n",
      "=====================================================================\n",
      "\n",
      "~~~~~~~~~~~~~~~~~~~~~~~~~~~~~~~~~~~~~~~~~~~~~~~~~~~~~~~~~~~~~~~~~~~~~\n",
      "Running tests\n",
      "\n",
      "---------------------------------------------------------------------\n",
      "Test summary\n",
      "    18 test cases passed! No cases failed.\n",
      "\n",
      "Performing authentication\n",
      "Please enter your school email (.edu): \n"
     ]
    }
   ],
   "source": [
    "!python3 ok -q optional2"
   ]
  },
  {
   "cell_type": "code",
   "execution_count": null,
   "id": "bd8d3e67-b0bf-4d47-b8ee-67beb7d7aa28",
   "metadata": {},
   "outputs": [
    {
     "name": "stdout",
     "output_type": "stream",
     "text": [
      "=====================================================================\n",
      "Assignment: Project 3: Ants Vs. SomeBees\n",
      "OK, version v1.18.1\n",
      "=====================================================================\n",
      "\n",
      "~~~~~~~~~~~~~~~~~~~~~~~~~~~~~~~~~~~~~~~~~~~~~~~~~~~~~~~~~~~~~~~~~~~~~\n",
      "Running tests\n",
      "\n",
      "---------------------------------------------------------------------\n",
      "Test summary\n",
      "    13 test cases passed! No cases failed.\n",
      "\n",
      "Performing authentication\n",
      "Please enter your school email (.edu): "
     ]
    }
   ],
   "source": [
    "!python3 ok -q optional3 "
   ]
  },
  {
   "cell_type": "code",
   "execution_count": 2,
   "id": "71962c21-3d6d-44c2-bc18-a238ff2b110c",
   "metadata": {},
   "outputs": [
    {
     "name": "stdout",
     "output_type": "stream",
     "text": [
      "=====================================================================\n",
      "Assignment: Project 3: Ants Vs. SomeBees\n",
      "OK, version v1.18.1\n",
      "=====================================================================\n",
      "\n",
      "~~~~~~~~~~~~~~~~~~~~~~~~~~~~~~~~~~~~~~~~~~~~~~~~~~~~~~~~~~~~~~~~~~~~~\n",
      "Running tests\n",
      "\n",
      "---------------------------------------------------------------------\n",
      "Test summary\n",
      "    10 test cases passed! No cases failed.\n",
      "\n",
      "Performing authentication\n",
      "Please enter your school email (.edu): \n"
     ]
    }
   ],
   "source": [
    "!python3 ok -q optional4 "
   ]
  },
  {
   "cell_type": "code",
   "execution_count": 4,
   "id": "6a21912e-29d4-4633-8ee7-fd5cca5e99ab",
   "metadata": {},
   "outputs": [
    {
     "data": {
      "text/plain": [
       "['=====================================================================',\n",
       " 'Assignment: Project 3: Ants Vs. SomeBees',\n",
       " 'OK, version v1.18.1',\n",
       " '=====================================================================',\n",
       " '',\n",
       " '~~~~~~~~~~~~~~~~~~~~~~~~~~~~~~~~~~~~~~~~~~~~~~~~~~~~~~~~~~~~~~~~~~~~~',\n",
       " 'Running tests',\n",
       " '',\n",
       " '---------------------------------------------------------------------',\n",
       " 'Test summary',\n",
       " '    2 test cases passed! No cases failed.',\n",
       " '',\n",
       " 'Performing authentication',\n",
       " 'Please enter your school email (.edu): OK is up to date',\n",
       " 'Traceback (most recent call last):',\n",
       " '  File \"ok/client/utils/auth.py\", line 199, in authenticate',\n",
       " '  File \"ok/client/utils/auth.py\", line 157, in refresh_local_token',\n",
       " '  File \"ok/client/utils/auth.py\", line 131, in get_storage',\n",
       " \"FileNotFoundError: [Errno 2] No such file or directory: '/root/.config/ok/auth_refresh'\",\n",
       " '',\n",
       " 'During handling of the above exception, another exception occurred:',\n",
       " '',\n",
       " 'Traceback (most recent call last):',\n",
       " '  File \"/root/miniconda3/lib/python3.8/runpy.py\", line 194, in _run_module_as_main',\n",
       " '    return _run_code(code, main_globals, None,',\n",
       " '  File \"/root/miniconda3/lib/python3.8/runpy.py\", line 87, in _run_code',\n",
       " '    exec(code, run_globals)',\n",
       " '  File \"ok/__main__.py\", line 46, in <module>',\n",
       " '  File \"ok/client/cli/ok.py\", line 273, in main',\n",
       " '  File \"ok/client/protocols/backup.py\", line 55, in run',\n",
       " '  File \"ok/client/api/assignment.py\", line 301, in authenticate',\n",
       " '  File \"ok/client/utils/auth.py\", line 204, in authenticate',\n",
       " '  File \"ok/client/utils/auth.py\", line 170, in perform_oauth',\n",
       " '  File \"ok/client/utils/auth.py\", line 254, in get_code',\n",
       " 'EOFError: EOF when reading a line']"
      ]
     },
     "execution_count": 4,
     "metadata": {},
     "output_type": "execute_result"
    }
   ],
   "source": [
    "!!python3 ok -q optional5 "
   ]
  },
  {
   "cell_type": "code",
   "execution_count": null,
   "id": "39989365-ea74-4a3d-98a2-2667db7642b0",
   "metadata": {},
   "outputs": [],
   "source": []
  }
 ],
 "metadata": {
  "kernelspec": {
   "display_name": "Python 3 (ipykernel)",
   "language": "python",
   "name": "python3"
  },
  "language_info": {
   "codemirror_mode": {
    "name": "ipython",
    "version": 3
   },
   "file_extension": ".py",
   "mimetype": "text/x-python",
   "name": "python",
   "nbconvert_exporter": "python",
   "pygments_lexer": "ipython3",
   "version": "3.8.10"
  }
 },
 "nbformat": 4,
 "nbformat_minor": 5
}
