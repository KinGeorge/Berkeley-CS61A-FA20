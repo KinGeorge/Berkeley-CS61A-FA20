{
 "cells": [
  {
   "cell_type": "code",
   "execution_count": null,
   "id": "90b78c7b-9fb3-41f0-8ede-6d12062476f9",
   "metadata": {},
   "outputs": [
    {
     "name": "stdout",
     "output_type": "stream",
     "text": [
      "=====================================================================\n",
      "Assignment: Homework 4\n",
      "OK, version v1.18.1\n",
      "=====================================================================\n",
      "\n",
      "~~~~~~~~~~~~~~~~~~~~~~~~~~~~~~~~~~~~~~~~~~~~~~~~~~~~~~~~~~~~~~~~~~~~~\n",
      "Running tests\n",
      "\n",
      "---------------------------------------------------------------------\n",
      "Test summary\n",
      "    1 test cases passed! No cases failed.\n",
      "\n",
      "Performing authentication\n",
      "Please enter your school email (.edu): "
     ]
    }
   ],
   "source": [
    "!python3 ok -q make_bank"
   ]
  },
  {
   "cell_type": "code",
   "execution_count": null,
   "id": "e5e81822-fc08-40eb-b4d3-b6d84f64c347",
   "metadata": {},
   "outputs": [
    {
     "name": "stdout",
     "output_type": "stream",
     "text": [
      "=====================================================================\n",
      "Assignment: Homework 4\n",
      "OK, version v1.18.1\n",
      "=====================================================================\n",
      "\n",
      "~~~~~~~~~~~~~~~~~~~~~~~~~~~~~~~~~~~~~~~~~~~~~~~~~~~~~~~~~~~~~~~~~~~~~\n",
      "Running tests\n",
      "\n",
      "---------------------------------------------------------------------\n",
      "Test summary\n",
      "    1 test cases passed! No cases failed.\n",
      "\n",
      "Performing authentication\n",
      "Please enter your school email (.edu): "
     ]
    }
   ],
   "source": [
    "!python3 ok -q make_withdraw"
   ]
  },
  {
   "cell_type": "code",
   "execution_count": null,
   "id": "7b46d46f-d936-43d7-8171-8e9fed0c49c0",
   "metadata": {},
   "outputs": [
    {
     "name": "stdout",
     "output_type": "stream",
     "text": [
      "=====================================================================\n",
      "Assignment: Homework 4\n",
      "OK, version v1.18.1\n",
      "=====================================================================\n",
      "\n",
      "~~~~~~~~~~~~~~~~~~~~~~~~~~~~~~~~~~~~~~~~~~~~~~~~~~~~~~~~~~~~~~~~~~~~~\n",
      "Running tests\n",
      "\n",
      "---------------------------------------------------------------------\n",
      "Test summary\n",
      "    1 test cases passed! No cases failed.\n",
      "\n",
      "Performing authentication\n",
      "Please enter your school email (.edu): "
     ]
    }
   ],
   "source": [
    "!python3 ok -q repeated"
   ]
  },
  {
   "cell_type": "code",
   "execution_count": null,
   "id": "a8a4b011-0733-4f50-9d25-db0714723515",
   "metadata": {},
   "outputs": [
    {
     "name": "stdout",
     "output_type": "stream",
     "text": [
      "=====================================================================\n",
      "Assignment: Homework 4\n",
      "OK, version v1.18.1\n",
      "=====================================================================\n",
      "\n",
      "~~~~~~~~~~~~~~~~~~~~~~~~~~~~~~~~~~~~~~~~~~~~~~~~~~~~~~~~~~~~~~~~~~~~~\n",
      "Running tests\n",
      "\n",
      "---------------------------------------------------------------------\n",
      "Doctests for permutations\n",
      "\n",
      ">>> from hw04 import *\n",
      ">>> perms = permutations([100])\n",
      ">>> type(perms)\n",
      "<class 'NoneType'>\n",
      "\n",
      "# Error: expected\n",
      "#     <class 'generator'>\n",
      "# but got\n",
      "#     <class 'NoneType'>\n",
      "\n",
      "---------------------------------------------------------------------\n",
      "Test summary\n",
      "    0 test cases passed before encountering first failed test case\n",
      "\n",
      "Performing authentication\n",
      "Please enter your school email (.edu): "
     ]
    }
   ],
   "source": [
    "!python3 ok -q permutations"
   ]
  },
  {
   "cell_type": "code",
   "execution_count": null,
   "id": "eae3bea4-bfb9-497f-9bf4-56685ad675af",
   "metadata": {},
   "outputs": [
    {
     "name": "stdout",
     "output_type": "stream",
     "text": [
      "=====================================================================\n",
      "Assignment: Homework 4\n",
      "OK, version v1.18.1\n",
      "=====================================================================\n",
      "\n",
      "~~~~~~~~~~~~~~~~~~~~~~~~~~~~~~~~~~~~~~~~~~~~~~~~~~~~~~~~~~~~~~~~~~~~~\n",
      "Running tests\n",
      "\n",
      "---------------------------------------------------------------------\n",
      "Test summary\n",
      "    1 test cases passed! No cases failed.\n",
      "\n",
      "Performing authentication\n",
      "Please enter your school email (.edu): "
     ]
    }
   ],
   "source": [
    "!python3 ok -q make_joint"
   ]
  },
  {
   "cell_type": "code",
   "execution_count": null,
   "id": "946e608d-5b70-4c37-b788-963e65770369",
   "metadata": {},
   "outputs": [
    {
     "name": "stdout",
     "output_type": "stream",
     "text": [
      "=====================================================================\n",
      "Assignment: Homework 4\n",
      "OK, version v1.18.1\n",
      "=====================================================================\n",
      "\n",
      "~~~~~~~~~~~~~~~~~~~~~~~~~~~~~~~~~~~~~~~~~~~~~~~~~~~~~~~~~~~~~~~~~~~~~\n",
      "Running tests\n",
      "\n",
      "---------------------------------------------------------------------\n",
      "Test summary\n",
      "    1 test cases passed! No cases failed.\n",
      "\n",
      "Performing authentication\n",
      "Please enter your school email (.edu): "
     ]
    }
   ],
   "source": [
    "!python3 ok -q remainders_generator"
   ]
  }
 ],
 "metadata": {
  "kernelspec": {
   "display_name": "Python 3 (ipykernel)",
   "language": "python",
   "name": "python3"
  },
  "language_info": {
   "codemirror_mode": {
    "name": "ipython",
    "version": 3
   },
   "file_extension": ".py",
   "mimetype": "text/x-python",
   "name": "python",
   "nbconvert_exporter": "python",
   "pygments_lexer": "ipython3",
   "version": "3.8.10"
  }
 },
 "nbformat": 4,
 "nbformat_minor": 5
}
